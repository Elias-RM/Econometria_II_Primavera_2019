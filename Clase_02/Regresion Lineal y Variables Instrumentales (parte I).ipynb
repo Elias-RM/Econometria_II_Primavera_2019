{
 "cells": [
  {
   "cell_type": "markdown",
   "metadata": {},
   "source": [
    "### REGRESIÓN LINEAL EN PYTHON Y VARIABLES PROXY"
   ]
  },
  {
   "cell_type": "markdown",
   "metadata": {},
   "source": [
    "##### Para esta clase utilizaremos como referencia la hipótesis y datos utilizados en el artículo: **\"The Colonial Origins of Comparative Development: An Empirical Investigation\"**\n",
    "\n",
    "* Autores: Daron Acemoglu, Simon Johnson, James A. Robinson\n",
    "\n",
    "* Fuente: The American Economic Review, Vol. 91, No. 5 (Dec., 2001), pp. 1369-1401 https://economics.mit.edu/files/4123\n",
    "\n",
    "* La versión en español la pueden encontrar en  redalyc.org/pdf/419/41901302.pdf"
   ]
  },
  {
   "cell_type": "markdown",
   "metadata": {},
   "source": [
    "#### PROPÓSITO DE ESTA CLASE\n",
    "* Aplicar el concepto de variables instrumentales que ya revisamos de forma teórica.\n",
    "* Utilizando un modelo de 2 etapas analizar la hipótesis de los autores: el desempeño económico observado puede ser atribuido a las diferencias institucionales.\n",
    "\n",
    "* **Los autores del artículo proponen 3 premisas:**\n",
    "\n",
    "* 1. Los diversos tipos de políticas de colonización crearon diferentes grupos de instituciones.  En un extremo, los europeos establecieron “Estados extractivos” , instituciones que  no proporcionaron mucha protección a la propiedad privada, ni establecieron un sistema de pesos y contrapesos contra la  expropiación del gobierno. \n",
    "\n",
    "* En el otro extremo, muchos europeos emigraron y se asentaron en diversas colonias, creando  “nuevas Europas”. Los colonizadores trataron de replicar las instituciones europeas, con gran énfasis en la propiedad privada y en el control del poder del gobierno.\n",
    "\n",
    "* 2. La factibilidad de los asentamientos influyó en la estrategia de colonización. En lugares donde el ambiente insalubre no era favorable al asentamiento europeo, no resultaba posible crear “nuevas Europas”,y era más factible la formación del Estado extractivo.\n",
    "\n",
    "* 3. El Estado colonial y las instituciones persistieron aun después de la independencia.\n",
    "\n",
    "\n",
    "* **HIPÓTESIS:** las tasas de mortalidad (potenciales) de los colonizadores fueron el principal determinante de los asentamientos; los asentamientos fueron un determinante importante de las instituciones iniciales (en la práctica, las instituciones de 1900); y existe una fuerte correlación entre las instituciones iniciales y las instituciones actuales.\n",
    "\n",
    "**¿Cómo medimos las diferencias institucionales y los resultados económicos?**\n",
    "\n",
    "* Los resultados económicos de una economía son aproximados por el logaritmo del PIB per cápita en 1995, ajustados por la paridad del poder adquisitivo, ppp.\n",
    "\n",
    "* Las diferencias institucionales son aproximadas mediante el  índice de protección contra la expropiación que reporta un  valor entre 0 y 10 para cada país y año,donde 0 corresponde a la menor protección contra la expropiación. Se utilizó  el valor promedio de cada país entre 1985 y 1995 ( “riesgo de expropiación” promedio 1985-95\", este índice fue construido por el Grupo de Servicios de Riesgo Político https://www.prsgroup.com/).\n",
    "\n",
    "* La principal contribución del artículo es el uso de las tasas de mortalidad como fuente de variación exógena en las diferencias institucionales.\n",
    "\n",
    "* Dicha variación es necesaria para determinar si son las instituciones las que dan lugar a un mayor crecimiento económico, y no al revés.\n",
    "\n"
   ]
  },
  {
   "cell_type": "markdown",
   "metadata": {},
   "source": [
    "### 1.- Importando las librerías necesarias\n",
    "* Para esta clase necesitamos instalar linearmodels"
   ]
  },
  {
   "cell_type": "code",
   "execution_count": 1,
   "metadata": {},
   "outputs": [
    {
     "name": "stderr",
     "output_type": "stream",
     "text": [
      "/Applications/anaconda/envs/PythonData/lib/python3.7/site-packages/statsmodels/tools/_testing.py:19: FutureWarning: pandas.util.testing is deprecated. Use the functions in the public API at pandas.testing instead.\n",
      "  import pandas.util.testing as tm\n"
     ]
    }
   ],
   "source": [
    "import numpy as np\n",
    "import pandas as pd\n",
    "#pd.core.common.is_list_like = pd.api.types.is_list_like\n",
    "import matplotlib.pyplot as plt\n",
    "%matplotlib inline\n",
    "import statsmodels.api as sm\n",
    "from statsmodels.iolib.summary2 import summary_col\n",
    "#from linearmodels.iv import IV2SLS\n",
    "#from linearmodels.iv import IVLIML\n",
    "#from linearmodels import IV2SLS, IVLIML, IVGMM, IVGMMCUE"
   ]
  },
  {
   "cell_type": "markdown",
   "metadata": {},
   "source": [
    "### 2.-Descargando los datos.\n",
    "* Con la ayuda de la instrucción *read_stata* leeremos los datos, nuestro Dataframe contiene la siguiente información:\n",
    "- shortnam - Abreviatura Nonmbre país.\n",
    "- euro1900 -Restricciones al Ejecutivo en 1900\n",
    "- excolony: variable dummy 1- excolonia -0 no excolonia\n",
    "- logpgp95 logaritmo del pib per cápita en 1995 \n",
    "- avexpr \n",
    "  logaritmo de la tasa de mortalidad de los colonizadores para una muestra de 75 países,\n",
    "- cons1 Constraint on executive in first year of independence \n",
    "-cons90 Constraint on executive in 1900 \n",
    "-democ00a ïndice de democracia 1900\n",
    "-cons00a\n",
    "-extmort4\n",
    "-logem4\tLogaritmo del pib por trabajador, 1988\n",
    "-loghjypl\n",
    "-baseco\n",
    "\n",
    "\n"
   ]
  },
  {
   "cell_type": "code",
   "execution_count": 24,
   "metadata": {},
   "outputs": [
    {
     "data": {
      "text/html": [
       "<div>\n",
       "<style scoped>\n",
       "    .dataframe tbody tr th:only-of-type {\n",
       "        vertical-align: middle;\n",
       "    }\n",
       "\n",
       "    .dataframe tbody tr th {\n",
       "        vertical-align: top;\n",
       "    }\n",
       "\n",
       "    .dataframe thead th {\n",
       "        text-align: right;\n",
       "    }\n",
       "</style>\n",
       "<table border=\"1\" class=\"dataframe\">\n",
       "  <thead>\n",
       "    <tr style=\"text-align: right;\">\n",
       "      <th></th>\n",
       "      <th>shortnam</th>\n",
       "      <th>euro1900</th>\n",
       "      <th>excolony</th>\n",
       "      <th>avexpr</th>\n",
       "      <th>logpgp95</th>\n",
       "      <th>cons1</th>\n",
       "      <th>cons90</th>\n",
       "      <th>democ00a</th>\n",
       "      <th>cons00a</th>\n",
       "      <th>extmort4</th>\n",
       "      <th>logem4</th>\n",
       "      <th>loghjypl</th>\n",
       "      <th>baseco</th>\n",
       "    </tr>\n",
       "  </thead>\n",
       "  <tbody>\n",
       "    <tr>\n",
       "      <th>0</th>\n",
       "      <td>AFG</td>\n",
       "      <td>0.000000</td>\n",
       "      <td>1.0</td>\n",
       "      <td>NaN</td>\n",
       "      <td>NaN</td>\n",
       "      <td>1.0</td>\n",
       "      <td>2.0</td>\n",
       "      <td>1.0</td>\n",
       "      <td>1.0</td>\n",
       "      <td>93.699997</td>\n",
       "      <td>4.540098</td>\n",
       "      <td>NaN</td>\n",
       "      <td>NaN</td>\n",
       "    </tr>\n",
       "    <tr>\n",
       "      <th>1</th>\n",
       "      <td>AGO</td>\n",
       "      <td>8.000000</td>\n",
       "      <td>1.0</td>\n",
       "      <td>5.363636</td>\n",
       "      <td>7.770645</td>\n",
       "      <td>3.0</td>\n",
       "      <td>3.0</td>\n",
       "      <td>0.0</td>\n",
       "      <td>1.0</td>\n",
       "      <td>280.000000</td>\n",
       "      <td>5.634789</td>\n",
       "      <td>-3.411248</td>\n",
       "      <td>1.0</td>\n",
       "    </tr>\n",
       "    <tr>\n",
       "      <th>2</th>\n",
       "      <td>ARE</td>\n",
       "      <td>0.000000</td>\n",
       "      <td>1.0</td>\n",
       "      <td>7.181818</td>\n",
       "      <td>9.804219</td>\n",
       "      <td>NaN</td>\n",
       "      <td>NaN</td>\n",
       "      <td>NaN</td>\n",
       "      <td>NaN</td>\n",
       "      <td>NaN</td>\n",
       "      <td>NaN</td>\n",
       "      <td>NaN</td>\n",
       "      <td>NaN</td>\n",
       "    </tr>\n",
       "    <tr>\n",
       "      <th>3</th>\n",
       "      <td>ARG</td>\n",
       "      <td>60.000004</td>\n",
       "      <td>1.0</td>\n",
       "      <td>6.386364</td>\n",
       "      <td>9.133459</td>\n",
       "      <td>1.0</td>\n",
       "      <td>6.0</td>\n",
       "      <td>3.0</td>\n",
       "      <td>3.0</td>\n",
       "      <td>68.900002</td>\n",
       "      <td>4.232656</td>\n",
       "      <td>-0.872274</td>\n",
       "      <td>1.0</td>\n",
       "    </tr>\n",
       "    <tr>\n",
       "      <th>4</th>\n",
       "      <td>ARM</td>\n",
       "      <td>0.000000</td>\n",
       "      <td>0.0</td>\n",
       "      <td>NaN</td>\n",
       "      <td>7.682482</td>\n",
       "      <td>NaN</td>\n",
       "      <td>NaN</td>\n",
       "      <td>NaN</td>\n",
       "      <td>NaN</td>\n",
       "      <td>NaN</td>\n",
       "      <td>NaN</td>\n",
       "      <td>NaN</td>\n",
       "      <td>NaN</td>\n",
       "    </tr>\n",
       "  </tbody>\n",
       "</table>\n",
       "</div>"
      ],
      "text/plain": [
       "  shortnam   euro1900  excolony    avexpr  logpgp95  cons1  cons90  democ00a  \\\n",
       "0      AFG   0.000000       1.0       NaN       NaN    1.0     2.0       1.0   \n",
       "1      AGO   8.000000       1.0  5.363636  7.770645    3.0     3.0       0.0   \n",
       "2      ARE   0.000000       1.0  7.181818  9.804219    NaN     NaN       NaN   \n",
       "3      ARG  60.000004       1.0  6.386364  9.133459    1.0     6.0       3.0   \n",
       "4      ARM   0.000000       0.0       NaN  7.682482    NaN     NaN       NaN   \n",
       "\n",
       "   cons00a    extmort4    logem4  loghjypl  baseco  \n",
       "0      1.0   93.699997  4.540098       NaN     NaN  \n",
       "1      1.0  280.000000  5.634789 -3.411248     1.0  \n",
       "2      NaN         NaN       NaN       NaN     NaN  \n",
       "3      3.0   68.900002  4.232656 -0.872274     1.0  \n",
       "4      NaN         NaN       NaN       NaN     NaN  "
      ]
     },
     "execution_count": 24,
     "metadata": {},
     "output_type": "execute_result"
    }
   ],
   "source": [
    "df1 = pd.read_stata('maketable1.dta')\n",
    "df1.head()"
   ]
  },
  {
   "cell_type": "markdown",
   "metadata": {},
   "source": [
    "### 3.- Explorando los datos de forma gráfica\n",
    "* Con una gráfica de dispersión exploraremos la relación entre las variables **'avexpr' Protección promedio contra el riesgo de expropiación,1985-1995 y 'logpgp95' Logaritmo del pib per cápita, 1975 y 1995**.\n",
    "* ¿Qué tipo de relación observas en los datos?"
   ]
  },
  {
   "cell_type": "code",
   "execution_count": 6,
   "metadata": {},
   "outputs": [
    {
     "data": {
      "image/png": "[encoded data removed]",
      "text/plain": [
       "<Figure size 576x396 with 1 Axes>"
      ]
     },
     "metadata": {},
     "output_type": "display_data"
    }
   ],
   "source": [
    "plt.style.use('ggplot')\n",
    "df1.plot(x='avexpr', y='logpgp95', kind='scatter')\n",
    "plt.title('Gráfica 1:Gráfico de dispersión')\n",
    "plt.show()"
   ]
  },
  {
   "cell_type": "markdown",
   "metadata": {},
   "source": [
    "### 4.- Modelo OLS Bivariado\n",
    "\n",
    "* Si un alto índice de  Protección promedio contra el riesgo de expropiación es una medida de calidad institucional, entonces **\"mejores instituciones\"  parecen estar positivamente correlacionadas con mejores desempeño económico (medido como un alto PIB per capita).**\n",
    "\n",
    "* Para describir esta relación, podríamos generar un **modelo bivariado entre el PIB percápita como variable dependiente y el Índice de Protección  promedio contra el riesgo de expropiación  como variable explicativa.**"
   ]
  },
  {
   "cell_type": "code",
   "execution_count": 7,
   "metadata": {},
   "outputs": [
    {
     "data": {
      "image/png": "[encoded data removed]",
      "text/plain": [
       "<Figure size 576x396 with 1 Axes>"
      ]
     },
     "metadata": {},
     "output_type": "display_data"
    }
   ],
   "source": [
    "# Generamos un subconjunto limpio de datos eliminando las observaciones con datos NA\n",
    "df1_subset = df1.dropna(subset=['logpgp95', 'avexpr'])\n",
    "\n",
    "df1_subset = df1_subset[df1_subset['baseco'] == 1]\n",
    "#Establecemos los parámetros X y Y\n",
    "X = df1_subset['avexpr']\n",
    "y = df1_subset['logpgp95']\n",
    "\n",
    "#Guardamos los valores de nuestras etiquetas \n",
    "labels = df1_subset['shortnam']\n",
    "\n",
    "# Reemplazamos los marcadores con los nombres de las etiquetas\n",
    "fig, ax = plt.subplots()\n",
    "ax.scatter(X, y, marker='')\n",
    "\n",
    "for i, label in enumerate(labels):\n",
    "    ax.annotate(label, (X.iloc[i], y.iloc[i]))\n",
    "\n",
    "# Trazamos una línea de tendencia\n",
    "ax.plot(np.unique(X),\n",
    "         np.poly1d(np.polyfit(X, y, 1))(np.unique(X)),\n",
    "         color='black')\n",
    "\n",
    "ax.set_xlim([3.3,10.5])\n",
    "ax.set_ylim([4,10.5])\n",
    "ax.set_xlabel('Protección promedio contra el riesgo de expropiación 1985-95')\n",
    "ax.set_ylabel('Log PIB per capita, PPP, 1995')\n",
    "ax.set_title('Gráfica 2: OLS relación entre riesgo de expropiación e ingreso')\n",
    "\n",
    "# Save the Figure\n",
    "#plt.savefig(\"FIGURA.png\", bbox_inches='tight')\n",
    "\n",
    "plt.show()"
   ]
  },
  {
   "cell_type": "markdown",
   "metadata": {},
   "source": [
    "* Para estimar los parámetros del modelo OLS, necesitamos añadir una columna con valor 1 "
   ]
  },
  {
   "cell_type": "code",
   "execution_count": 8,
   "metadata": {},
   "outputs": [
    {
     "data": {
      "text/html": [
       "<div>\n",
       "<style scoped>\n",
       "    .dataframe tbody tr th:only-of-type {\n",
       "        vertical-align: middle;\n",
       "    }\n",
       "\n",
       "    .dataframe tbody tr th {\n",
       "        vertical-align: top;\n",
       "    }\n",
       "\n",
       "    .dataframe thead th {\n",
       "        text-align: right;\n",
       "    }\n",
       "</style>\n",
       "<table border=\"1\" class=\"dataframe\">\n",
       "  <thead>\n",
       "    <tr style=\"text-align: right;\">\n",
       "      <th></th>\n",
       "      <th>shortnam</th>\n",
       "      <th>euro1900</th>\n",
       "      <th>excolony</th>\n",
       "      <th>avexpr</th>\n",
       "      <th>logpgp95</th>\n",
       "      <th>cons1</th>\n",
       "      <th>cons90</th>\n",
       "      <th>democ00a</th>\n",
       "      <th>cons00a</th>\n",
       "      <th>extmort4</th>\n",
       "      <th>logem4</th>\n",
       "      <th>loghjypl</th>\n",
       "      <th>baseco</th>\n",
       "      <th>const</th>\n",
       "    </tr>\n",
       "  </thead>\n",
       "  <tbody>\n",
       "    <tr>\n",
       "      <th>0</th>\n",
       "      <td>AFG</td>\n",
       "      <td>0.000000</td>\n",
       "      <td>1.0</td>\n",
       "      <td>NaN</td>\n",
       "      <td>NaN</td>\n",
       "      <td>1.0</td>\n",
       "      <td>2.0</td>\n",
       "      <td>1.0</td>\n",
       "      <td>1.0</td>\n",
       "      <td>93.699997</td>\n",
       "      <td>4.540098</td>\n",
       "      <td>NaN</td>\n",
       "      <td>NaN</td>\n",
       "      <td>1</td>\n",
       "    </tr>\n",
       "    <tr>\n",
       "      <th>1</th>\n",
       "      <td>AGO</td>\n",
       "      <td>8.000000</td>\n",
       "      <td>1.0</td>\n",
       "      <td>5.363636</td>\n",
       "      <td>7.770645</td>\n",
       "      <td>3.0</td>\n",
       "      <td>3.0</td>\n",
       "      <td>0.0</td>\n",
       "      <td>1.0</td>\n",
       "      <td>280.000000</td>\n",
       "      <td>5.634789</td>\n",
       "      <td>-3.411248</td>\n",
       "      <td>1.0</td>\n",
       "      <td>1</td>\n",
       "    </tr>\n",
       "    <tr>\n",
       "      <th>2</th>\n",
       "      <td>ARE</td>\n",
       "      <td>0.000000</td>\n",
       "      <td>1.0</td>\n",
       "      <td>7.181818</td>\n",
       "      <td>9.804219</td>\n",
       "      <td>NaN</td>\n",
       "      <td>NaN</td>\n",
       "      <td>NaN</td>\n",
       "      <td>NaN</td>\n",
       "      <td>NaN</td>\n",
       "      <td>NaN</td>\n",
       "      <td>NaN</td>\n",
       "      <td>NaN</td>\n",
       "      <td>1</td>\n",
       "    </tr>\n",
       "    <tr>\n",
       "      <th>3</th>\n",
       "      <td>ARG</td>\n",
       "      <td>60.000004</td>\n",
       "      <td>1.0</td>\n",
       "      <td>6.386364</td>\n",
       "      <td>9.133459</td>\n",
       "      <td>1.0</td>\n",
       "      <td>6.0</td>\n",
       "      <td>3.0</td>\n",
       "      <td>3.0</td>\n",
       "      <td>68.900002</td>\n",
       "      <td>4.232656</td>\n",
       "      <td>-0.872274</td>\n",
       "      <td>1.0</td>\n",
       "      <td>1</td>\n",
       "    </tr>\n",
       "    <tr>\n",
       "      <th>4</th>\n",
       "      <td>ARM</td>\n",
       "      <td>0.000000</td>\n",
       "      <td>0.0</td>\n",
       "      <td>NaN</td>\n",
       "      <td>7.682482</td>\n",
       "      <td>NaN</td>\n",
       "      <td>NaN</td>\n",
       "      <td>NaN</td>\n",
       "      <td>NaN</td>\n",
       "      <td>NaN</td>\n",
       "      <td>NaN</td>\n",
       "      <td>NaN</td>\n",
       "      <td>NaN</td>\n",
       "      <td>1</td>\n",
       "    </tr>\n",
       "  </tbody>\n",
       "</table>\n",
       "</div>"
      ],
      "text/plain": [
       "  shortnam   euro1900  excolony    avexpr  logpgp95  cons1  cons90  democ00a  \\\n",
       "0      AFG   0.000000       1.0       NaN       NaN    1.0     2.0       1.0   \n",
       "1      AGO   8.000000       1.0  5.363636  7.770645    3.0     3.0       0.0   \n",
       "2      ARE   0.000000       1.0  7.181818  9.804219    NaN     NaN       NaN   \n",
       "3      ARG  60.000004       1.0  6.386364  9.133459    1.0     6.0       3.0   \n",
       "4      ARM   0.000000       0.0       NaN  7.682482    NaN     NaN       NaN   \n",
       "\n",
       "   cons00a    extmort4    logem4  loghjypl  baseco  const  \n",
       "0      1.0   93.699997  4.540098       NaN     NaN      1  \n",
       "1      1.0  280.000000  5.634789 -3.411248     1.0      1  \n",
       "2      NaN         NaN       NaN       NaN     NaN      1  \n",
       "3      3.0   68.900002  4.232656 -0.872274     1.0      1  \n",
       "4      NaN         NaN       NaN       NaN     NaN      1  "
      ]
     },
     "execution_count": 8,
     "metadata": {},
     "output_type": "execute_result"
    }
   ],
   "source": [
    "df1['const'] = 1\n",
    "df1.head()"
   ]
  },
  {
   "cell_type": "markdown",
   "metadata": {},
   "source": [
    "* Ahora podemos construir el modelo OLS"
   ]
  },
  {
   "cell_type": "code",
   "execution_count": 9,
   "metadata": {},
   "outputs": [
    {
     "data": {
      "text/plain": [
       "statsmodels.regression.linear_model.OLS"
      ]
     },
     "execution_count": 9,
     "metadata": {},
     "output_type": "execute_result"
    }
   ],
   "source": [
    "reg1 = sm.OLS(endog=df1['logpgp95'], exog=df1[['const', 'avexpr']], \\\n",
    "    missing='drop')\n",
    "type(reg1)"
   ]
  },
  {
   "cell_type": "markdown",
   "metadata": {},
   "source": [
    "* Para estimar los parámetros del intercpeto y B1 utilizamos la instrucción **.fit()** "
   ]
  },
  {
   "cell_type": "code",
   "execution_count": 10,
   "metadata": {},
   "outputs": [
    {
     "data": {
      "text/plain": [
       "statsmodels.regression.linear_model.RegressionResultsWrapper"
      ]
     },
     "execution_count": 10,
     "metadata": {},
     "output_type": "execute_result"
    }
   ],
   "source": [
    "results = reg1.fit()\n",
    "type(results)"
   ]
  },
  {
   "cell_type": "markdown",
   "metadata": {},
   "source": [
    "* Utilizaremos el método .summary() para ver el resumen de resultados"
   ]
  },
  {
   "cell_type": "code",
   "execution_count": 11,
   "metadata": {},
   "outputs": [
    {
     "name": "stdout",
     "output_type": "stream",
     "text": [
      "                            OLS Regression Results                            \n",
      "==============================================================================\n",
      "Dep. Variable:               logpgp95   R-squared:                       0.611\n",
      "Model:                            OLS   Adj. R-squared:                  0.608\n",
      "Method:                 Least Squares   F-statistic:                     171.4\n",
      "Date:                Mon, 13 Apr 2020   Prob (F-statistic):           4.16e-24\n",
      "Time:                        08:05:34   Log-Likelihood:                -119.71\n",
      "No. Observations:                 111   AIC:                             243.4\n",
      "Df Residuals:                     109   BIC:                             248.8\n",
      "Df Model:                           1                                         \n",
      "Covariance Type:            nonrobust                                         \n",
      "==============================================================================\n",
      "                 coef    std err          t      P>|t|      [0.025      0.975]\n",
      "------------------------------------------------------------------------------\n",
      "const          4.6261      0.301     15.391      0.000       4.030       5.222\n",
      "avexpr         0.5319      0.041     13.093      0.000       0.451       0.612\n",
      "==============================================================================\n",
      "Omnibus:                        9.251   Durbin-Watson:                   1.689\n",
      "Prob(Omnibus):                  0.010   Jarque-Bera (JB):                9.170\n",
      "Skew:                          -0.680   Prob(JB):                       0.0102\n",
      "Kurtosis:                       3.362   Cond. No.                         33.2\n",
      "==============================================================================\n",
      "\n",
      "Warnings:\n",
      "[1] Standard Errors assume that the covariance matrix of the errors is correctly specified.\n"
     ]
    }
   ],
   "source": [
    "print(results.summary())"
   ]
  },
  {
   "cell_type": "markdown",
   "metadata": {},
   "source": [
    "### Resultados:\n",
    "**intercepto=4.63, B1=0.53,** la calidad institucional tiene un efecto positivo  en el desempeño económico.\n",
    "**p-value:** El efecto de las instituciones sobre el PIB per cápita  es estadísticamente significativo\n",
    "**R²=.611** al rededor de 61% de la variación en la variable LOG PIB per cápita es explicada por la variable Índice de  Protección promedio contra el riesgo de expropiación"
   ]
  },
  {
   "cell_type": "markdown",
   "metadata": {},
   "source": [
    "### Utilizando nuestro modelo para predecir niveles de PIB per cápita"
   ]
  },
  {
   "cell_type": "code",
   "execution_count": 12,
   "metadata": {},
   "outputs": [
    {
     "data": {
      "text/plain": [
       "6.515625"
      ]
     },
     "execution_count": 12,
     "metadata": {},
     "output_type": "execute_result"
    }
   ],
   "source": [
    "#primero calculamos el promedio de avexpr\n",
    "mean_expr = np.mean(df1_subset['avexpr'])\n",
    "mean_expr"
   ]
  },
  {
   "cell_type": "code",
   "execution_count": 13,
   "metadata": {},
   "outputs": [
    {
     "data": {
      "text/plain": [
       "array([8.09156367])"
      ]
     },
     "execution_count": 13,
     "metadata": {},
     "output_type": "execute_result"
    }
   ],
   "source": [
    "results.predict(exog=[1, mean_expr])"
   ]
  },
  {
   "cell_type": "markdown",
   "metadata": {},
   "source": [
    "### Podemos obtener el valor predicho para cada valor del Índice de  Protección promedio contra el riesgo de expropiación"
   ]
  },
  {
   "cell_type": "code",
   "execution_count": 14,
   "metadata": {},
   "outputs": [
    {
     "data": {
      "image/png": "[encoded data removed]",
      "text/plain": [
       "<Figure size 576x396 with 1 Axes>"
      ]
     },
     "metadata": {},
     "output_type": "display_data"
    }
   ],
   "source": [
    "# Eliminamos los valores perdidos de la base\n",
    "\n",
    "df1_plot = df1.dropna(subset=['logpgp95', 'avexpr'])\n",
    "\n",
    "# Graficamos los valores predichos\n",
    "\n",
    "fix, ax = plt.subplots()\n",
    "ax.scatter(df1_plot['avexpr'], results.predict(), alpha=0.5,\n",
    "        label='Predicho')\n",
    "\n",
    "# Graficamos los valores observados\n",
    "\n",
    "ax.scatter(df1_plot['avexpr'], df1_plot['logpgp95'], alpha=0.5,\n",
    "        label='Observado')\n",
    "\n",
    "ax.legend()\n",
    "ax.set_title('OLS valores predichos')\n",
    "ax.set_xlabel('avexpr')\n",
    "ax.set_ylabel('logpgp95')\n",
    "plt.show()\n"
   ]
  },
  {
   "cell_type": "markdown",
   "metadata": {},
   "source": [
    "###  5.-Modelo Multivariado\n",
    "* Hasta ahora, nuestro modelo sólo considera como variable explicativa el Índice de  Protección promedio contra el riesgo de expropiación, seguramente existen otras variables que tienen un efecto sobre el PIB per cápita.\n",
    "\n",
    "* Los cálculos de los parámetros de nuestro modelo pueden estar afectados por lo que se conoce como **\"sesgo de variable omitida\"**, para solucionar este problema, extenderemos nuestro modelo para incluir otras variables.\n"
   ]
  },
  {
   "cell_type": "code",
   "execution_count": 15,
   "metadata": {},
   "outputs": [],
   "source": [
    "#descargamos los datos para nuestro modelo multivariado\n",
    "\n",
    "df2 = pd.read_stata('maketable2.dta')\n",
    "\n",
    "# Creamos nuestra constante\n",
    "df2['const'] = 1\n",
    "\n",
    "# Creamos una lista de variables que serán utilizadas en cada regresión (vamos a generar 3 modelos) \n",
    "X1 = ['const', 'avexpr']\n",
    "X2 = ['const', 'avexpr', 'lat_abst']\n",
    "X3 = ['const', 'avexpr', 'lat_abst', 'asia', 'africa', 'other']\n",
    "\n",
    "# Estimaremos un modelo de regresión OLS por cada conjunto de variables.\n",
    "reg1 = sm.OLS(df2['logpgp95'], df2[X1], missing='drop').fit()\n",
    "reg2 = sm.OLS(df2['logpgp95'], df2[X2], missing='drop').fit()\n",
    "reg3 = sm.OLS(df2['logpgp95'], df2[X3], missing='drop').fit() "
   ]
  },
  {
   "cell_type": "markdown",
   "metadata": {},
   "source": [
    "* Con la instrucción **summary_col** vamos a desplegar los resultados de los tres modelos en una sola tabla"
   ]
  },
  {
   "cell_type": "code",
   "execution_count": 19,
   "metadata": {},
   "outputs": [
    {
     "name": "stdout",
     "output_type": "stream",
     "text": [
      "        Table 2 - OLS Regressions\n",
      "=========================================\n",
      "                 Model 1 Model 3 Model 4 \n",
      "-----------------------------------------\n",
      "const            4.63*** 4.87*** 5.85*** \n",
      "                 (0.30)  (0.33)  (0.34)  \n",
      "avexpr           0.53*** 0.46*** 0.39*** \n",
      "                 (0.04)  (0.06)  (0.05)  \n",
      "lat_abst                 0.87*   0.33    \n",
      "                         (0.49)  (0.45)  \n",
      "asia                             -0.15   \n",
      "                                 (0.15)  \n",
      "africa                           -0.92***\n",
      "                                 (0.17)  \n",
      "other                            0.30    \n",
      "                                 (0.37)  \n",
      "R-squared        0.61    0.62    0.72    \n",
      "No. observations 111     111     111     \n",
      "=========================================\n",
      "Standard errors in parentheses.\n",
      "* p<.1, ** p<.05, ***p<.01\n"
     ]
    }
   ],
   "source": [
    "info_dict={'R-squared' : lambda x: f\"{x.rsquared:.2f}\",\n",
    "           'No. observations' : lambda x: f\"{int(x.nobs):d}\"}\n",
    "\n",
    "results_table = summary_col(results=[reg1,reg2,reg3],\n",
    "                            float_format='%0.2f',\n",
    "                            stars = True,\n",
    "                            model_names=['Model 1',\n",
    "                                         'Model 3',\n",
    "                                         'Model 4'],\n",
    "                            info_dict=info_dict,\n",
    "                            regressor_order=['const',\n",
    "                                             'avexpr',\n",
    "                                             'lat_abst',\n",
    "                                             'asia',\n",
    "                                             'africa'])\n",
    "\n",
    "results_table.add_title('Table 2 - OLS Regressions')\n",
    "\n",
    "print(results_table)"
   ]
  },
  {
   "cell_type": "markdown",
   "metadata": {},
   "source": [
    "### Endogeneidad Modelo de Mínimos Cuadrados en dos etapas\n",
    "* **Endogeneidad** puede surgir como resultado de un error de medición, autorregresión con autocorrelación de errores, simultaneidad y variables omitidas. Utilizando un modelo OLS de dos etapas revisaremos cómo podemos arreglar este problema.\n",
    "\n",
    "* La relación que existe entre el Índice de protección  promedio contra el riesgo de expropiación ('avexpr') y el    Logaritmo del PIB per cápita, puede ser bidireccional. \n",
    "* Por ejemplo, es probable que los países más ricos puedan financiar o preferir mejores instituciones; o que las variables que afectan el ingreso también pueden estar correlacionadas con diferencias institucionales; también podría se plausible que  la construcción del índice de protección  promedio contra el riesgo de expropiación pudo sesgarse,  los analistas pueden estar predispuestos a ver que los países con mayores ingresos tengan mejores instituciones"
   ]
  }
 ],
 "metadata": {
  "kernelspec": {
   "display_name": "Python 3",
   "language": "python",
   "name": "python3"
  },
  "language_info": {
   "codemirror_mode": {
    "name": "ipython",
    "version": 3
   },
   "file_extension": ".py",
   "mimetype": "text/x-python",
   "name": "python",
   "nbconvert_exporter": "python",
   "pygments_lexer": "ipython3",
   "version": "3.7.5"
  }
 },
 "nbformat": 4,
 "nbformat_minor": 2
}
